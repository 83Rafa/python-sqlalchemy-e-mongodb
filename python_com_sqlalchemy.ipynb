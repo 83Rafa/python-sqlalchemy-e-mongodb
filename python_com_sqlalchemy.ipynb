{
  "nbformat": 4,
  "nbformat_minor": 0,
  "metadata": {
    "colab": {
      "provenance": [],
      "collapsed_sections": []
    },
    "kernelspec": {
      "name": "python3",
      "display_name": "Python 3"
    },
    "language_info": {
      "name": "python"
    }
  },
  "cells": [
    {
      "cell_type": "markdown",
      "source": [
        "# Integrando Python com SQLAlchemy"
      ],
      "metadata": {
        "id": "L9xOgrEJqhgQ"
      }
    },
    {
      "cell_type": "markdown",
      "source": [
        "Desafio de Projeto - Implementar uma aplicação de integração com SQLite com base em um esquema relacional disponibilizado. Sendo assim, utilize o esquema dentro do contexto de cliente e conta para criar as classes de sua API. Essas classes irão representar as tabelas do banco de dados relacional dentro da aplicação.\n",
        "\n",
        "- Aplicação com a definição do esquema por meio das classes usando SQLAlchemy\n",
        "- Inserção de um conjunto de dados mínimo para manipulação das informações\n",
        "- Execução de métodos de recuperação de dados via SQLAlchemy"
      ],
      "metadata": {
        "id": "DVKpzy22qppH"
      }
    },
    {
      "cell_type": "markdown",
      "source": [
        "### Implementando um Banco de Dados Relacional com SQLAlchemy"
      ],
      "metadata": {
        "id": "mKHPfpBSrBWA"
      }
    },
    {
      "cell_type": "code",
      "execution_count": null,
      "metadata": {
        "colab": {
          "base_uri": "https://localhost:8080/"
        },
        "id": "cOzokVUknZIg",
        "outputId": "4681bae1-5e83-4cab-e332-574441d09964"
      },
      "outputs": [
        {
          "output_type": "stream",
          "name": "stdout",
          "text": [
            "Looking in indexes: https://pypi.org/simple, https://us-python.pkg.dev/colab-wheels/public/simple/\n",
            "Requirement already satisfied: sqlalchemy in /usr/local/lib/python3.7/dist-packages (1.4.41)\n",
            "Requirement already satisfied: greenlet!=0.4.17 in /usr/local/lib/python3.7/dist-packages (from sqlalchemy) (1.1.3.post0)\n",
            "Requirement already satisfied: importlib-metadata in /usr/local/lib/python3.7/dist-packages (from sqlalchemy) (4.13.0)\n",
            "Requirement already satisfied: typing-extensions>=3.6.4 in /usr/local/lib/python3.7/dist-packages (from importlib-metadata->sqlalchemy) (4.1.1)\n",
            "Requirement already satisfied: zipp>=0.5 in /usr/local/lib/python3.7/dist-packages (from importlib-metadata->sqlalchemy) (3.9.0)\n"
          ]
        }
      ],
      "source": [
        "!pip install sqlalchemy"
      ]
    },
    {
      "cell_type": "code",
      "source": [
        "from sqlalchemy.sql.lambdas import insp\n",
        "from sqlalchemy.orm import declarative_base\n",
        "from sqlalchemy.orm import relationship\n",
        "from sqlalchemy.orm import Session\n",
        "from sqlalchemy import Column\n",
        "from sqlalchemy import create_engine\n",
        "from sqlalchemy import inspect\n",
        "from sqlalchemy import Integer\n",
        "from sqlalchemy import String\n",
        "from sqlalchemy import ForeignKey\n",
        "from sqlalchemy.types import CHAR\n",
        "from sqlalchemy import Float\n",
        "from sqlalchemy import select\n",
        "from sqlalchemy import func"
      ],
      "metadata": {
        "id": "lyq7k5zcnfyi"
      },
      "execution_count": null,
      "outputs": []
    },
    {
      "cell_type": "code",
      "source": [
        "Base = declarative_base()\n",
        "\n",
        "\n",
        "class Cliente(Base):\n",
        "  __tablename__ = \"cliente\"\n",
        "  id = Column(Integer, primary_key=True)\n",
        "  nome = Column(String)\n",
        "  cpf = Column(String)\n",
        "  endereco = Column(String)\n",
        "\n",
        "  conta = relationship(\n",
        "      \"Conta\", back_populates=\"cliente\", cascade=\"all, delete-orphan\"\n",
        "  )\n",
        "\n",
        "  def __repr__(self):\n",
        "    return f\"Cliente(id={self.id}, nome={self.nome}, cpf={self.cpf}, endereco={self.endereco})\"\n",
        "\n",
        "class Conta(Base):\n",
        "  __tablename__ = \"conta\"\n",
        "  id = Column(Integer, primary_key=True)\n",
        "  tipo = Column(String(10), nullable=False)\n",
        "  numero = Column(String(10), nullable=False)\n",
        "  agencia = Column(Integer, nullable=False)\n",
        "  saldo = Column(Float, nullable=False)\n",
        "  cliente_id = Column(Integer, ForeignKey(\"cliente.id\"), nullable=False)\n",
        "\n",
        "  cliente = relationship(\"Cliente\", back_populates=\"conta\")\n",
        "  \n",
        "  def __repr__(self):\n",
        "    return f\"Conta(id={self.id}, tipo={self.tipo}, numero={self.numero}, agencia={self.agencia}, saldo={self.saldo})\""
      ],
      "metadata": {
        "id": "nk8IrD3vnmJ4"
      },
      "execution_count": null,
      "outputs": []
    },
    {
      "cell_type": "code",
      "source": [
        "print(Cliente.__tablename__)\n",
        "print(Conta.__tablename__)"
      ],
      "metadata": {
        "colab": {
          "base_uri": "https://localhost:8080/"
        },
        "id": "xmSnPfRmr16o",
        "outputId": "7ce2d7dd-170f-4a67-cd69-84fd14c48d09"
      },
      "execution_count": null,
      "outputs": [
        {
          "output_type": "stream",
          "name": "stdout",
          "text": [
            "cliente\n",
            "conta\n"
          ]
        }
      ]
    },
    {
      "cell_type": "markdown",
      "source": [
        "- Conexão "
      ],
      "metadata": {
        "id": "Yly1iQMaDheI"
      }
    },
    {
      "cell_type": "code",
      "source": [
        "engine = create_engine(\"sqlite://\")"
      ],
      "metadata": {
        "id": "NiXTmxzLsM3z"
      },
      "execution_count": null,
      "outputs": []
    },
    {
      "cell_type": "markdown",
      "source": [
        "- Criando as classes como tabelas no banco de dados"
      ],
      "metadata": {
        "id": "VWTtlnnLDqnY"
      }
    },
    {
      "cell_type": "code",
      "source": [
        "Base.metadata.create_all(engine)"
      ],
      "metadata": {
        "id": "xhmJdfYLsRUG"
      },
      "execution_count": null,
      "outputs": []
    },
    {
      "cell_type": "markdown",
      "source": [
        "- Printando o esquema do banco de dados"
      ],
      "metadata": {
        "id": "T--LZWtgDzDp"
      }
    },
    {
      "cell_type": "code",
      "source": [
        "engine_inspector = inspect(engine)\n",
        "\n",
        "print(engine_inspector.has_table(\"cliente\"))\n",
        "print(engine_inspector.get_table_names())\n",
        "print(engine_inspector.default_schema_name)"
      ],
      "metadata": {
        "colab": {
          "base_uri": "https://localhost:8080/"
        },
        "id": "zxkUxMCSs35D",
        "outputId": "98766a01-8e42-43be-ca8a-c38427daa243"
      },
      "execution_count": null,
      "outputs": [
        {
          "output_type": "stream",
          "name": "stdout",
          "text": [
            "True\n",
            "['cliente', 'conta']\n",
            "main\n"
          ]
        }
      ]
    },
    {
      "cell_type": "markdown",
      "source": [
        "### Persistência dos dados"
      ],
      "metadata": {
        "id": "ozx6-WOPEFp1"
      }
    },
    {
      "cell_type": "code",
      "source": [
        "with Session(engine) as session:\n",
        "  cliente_1 = Cliente(\n",
        "      nome='Juliana',\n",
        "      cpf=12345678911,\n",
        "      endereco='Rua 1, 10 - Rio de Janeiro/RJ',\n",
        "      conta=[Conta(tipo='Poupança', agencia='0001', numero=20055001, saldo=10000)]\n",
        "  )\n",
        "\n",
        "  cliente_2 = Cliente(\n",
        "      nome='Venilton',\n",
        "      cpf=14725836901,\n",
        "      endereco='Rua 2, 20 - Araraquara/SP',\n",
        "      conta=[Conta(tipo='Corrente', agencia='0001', numero=10055001, saldo=7800)]\n",
        "  )\n",
        "  \n",
        "  cliente_3 = Cliente(\n",
        "      nome='Renan',\n",
        "      cpf=74185296302,\n",
        "      endereco='Rua 3, 30 - Araraquara/SP',\n",
        "      conta=[Conta(tipo='Corrente', agencia='0001', numero=10055003, saldo=8000)]\n",
        "  )\n",
        "  \n",
        "  cliente_4 = Cliente(\n",
        "      nome='Guilherme',\n",
        "      cpf=31264597809,\n",
        "      endereco='Rua 4, 40 - Araraquara/SP',\n",
        "      conta=[Conta(tipo='Poupança', agencia='0001', numero=20055004, saldo=1200)]\n",
        "  )\n",
        "  \n",
        "  cliente_5 = Cliente(\n",
        "      nome='Diego',\n",
        "      cpf=21354687910,\n",
        "      endereco='Rua 5, 50 - Catanduva/SP',\n",
        "      conta=[Conta(tipo='Corrente', agencia='0001', numero=10055007, saldo=1200)]\n",
        "  )"
      ],
      "metadata": {
        "id": "7scqooAot6CT"
      },
      "execution_count": null,
      "outputs": []
    },
    {
      "cell_type": "markdown",
      "source": [
        "- Persistindo dados para banco de dados"
      ],
      "metadata": {
        "id": "LvdFWookENmX"
      }
    },
    {
      "cell_type": "code",
      "source": [
        "session.add_all([cliente_1, cliente_2, cliente_3, cliente_4, cliente_5])"
      ],
      "metadata": {
        "id": "roGMBkO33wKt"
      },
      "execution_count": null,
      "outputs": []
    },
    {
      "cell_type": "code",
      "source": [
        "session.commit()"
      ],
      "metadata": {
        "id": "23kkgGDL3-GV"
      },
      "execution_count": null,
      "outputs": []
    },
    {
      "cell_type": "markdown",
      "source": [
        " ## Consumindo informações do BD"
      ],
      "metadata": {
        "id": "0nqFkNwM4GN6"
      }
    },
    {
      "cell_type": "markdown",
      "source": [
        "- Recuperando usuários a partir de condição de filtragem"
      ],
      "metadata": {
        "id": "0TILlagiDLof"
      }
    },
    {
      "cell_type": "code",
      "source": [
        "stmt = select(Cliente).where(Cliente.nome.in_(['Guilherme', 'Juliana', 'Diego']))\n",
        "for cliente in session.scalars(stmt):\n",
        "  print(cliente)"
      ],
      "metadata": {
        "colab": {
          "base_uri": "https://localhost:8080/"
        },
        "id": "ZWE1yxEg4B3v",
        "outputId": "6b124e67-b042-4a01-d735-02db29a09ff2"
      },
      "execution_count": null,
      "outputs": [
        {
          "output_type": "stream",
          "name": "stdout",
          "text": [
            "Cliente(id=1, nome=Juliana, cpf=12345678911, endereco=Rua 1, 10 - Rio de Janeiro/RJ)\n",
            "Cliente(id=4, nome=Guilherme, cpf=31264597809, endereco=Rua 4, 40 - Araraquara/SP)\n",
            "Cliente(id=5, nome=Diego, cpf=21354687910, endereco=Rua 5, 50 - Catanduva/SP)\n"
          ]
        }
      ]
    },
    {
      "cell_type": "markdown",
      "source": [
        "- Recuperando os endereços de Renan"
      ],
      "metadata": {
        "id": "uHdmHekSDGpy"
      }
    },
    {
      "cell_type": "code",
      "source": [
        "conta_stmt = select(Conta).where(Conta.cliente_id.in_([3]))\n",
        "for conta in session.scalars(conta_stmt):\n",
        "  print(conta)"
      ],
      "metadata": {
        "colab": {
          "base_uri": "https://localhost:8080/"
        },
        "id": "Jwe7sEp85JMM",
        "outputId": "131818e6-c45f-45c9-9c07-1de580e37f02"
      },
      "execution_count": null,
      "outputs": [
        {
          "output_type": "stream",
          "name": "stdout",
          "text": [
            "Conta(id=3, tipo=Corrente, numero=10055003, agencia=1, saldo=8000.0)\n"
          ]
        }
      ]
    },
    {
      "cell_type": "markdown",
      "source": [
        "- Recuperando informações de maneira ordenada"
      ],
      "metadata": {
        "id": "417N1wyLDCGk"
      }
    },
    {
      "cell_type": "code",
      "source": [
        "print(select(Cliente).order_by(Cliente.nome.desc()))"
      ],
      "metadata": {
        "colab": {
          "base_uri": "https://localhost:8080/"
        },
        "id": "VL4iEv0G5vD0",
        "outputId": "03bee5ed-6fb4-49dd-8c28-4ed1614c0378"
      },
      "execution_count": null,
      "outputs": [
        {
          "output_type": "stream",
          "name": "stdout",
          "text": [
            "SELECT cliente.id, cliente.nome, cliente.cpf, cliente.endereco \n",
            "FROM cliente ORDER BY cliente.nome DESC\n"
          ]
        }
      ]
    },
    {
      "cell_type": "code",
      "source": [
        "order_stmt = select(Cliente).order_by(Cliente.endereco.desc())\n",
        "for i, result in enumerate (session.scalars(order_stmt)):\n",
        "  print(f'Resultado {i}: {result}')"
      ],
      "metadata": {
        "colab": {
          "base_uri": "https://localhost:8080/"
        },
        "id": "flBYO5Gw_pb_",
        "outputId": "c6b1e994-a614-43d5-e453-d0f2d705b3f2"
      },
      "execution_count": null,
      "outputs": [
        {
          "output_type": "stream",
          "name": "stdout",
          "text": [
            "Resultado 0: Cliente(id=5, nome=Diego, cpf=21354687910, endereco=Rua 5, 50 - Catanduva/SP)\n",
            "Resultado 1: Cliente(id=4, nome=Guilherme, cpf=31264597809, endereco=Rua 4, 40 - Araraquara/SP)\n",
            "Resultado 2: Cliente(id=3, nome=Renan, cpf=74185296302, endereco=Rua 3, 30 - Araraquara/SP)\n",
            "Resultado 3: Cliente(id=2, nome=Venilton, cpf=14725836901, endereco=Rua 2, 20 - Araraquara/SP)\n",
            "Resultado 4: Cliente(id=1, nome=Juliana, cpf=12345678911, endereco=Rua 1, 10 - Rio de Janeiro/RJ)\n"
          ]
        }
      ]
    },
    {
      "cell_type": "markdown",
      "source": [
        "### Join statment"
      ],
      "metadata": {
        "id": "aoleHByJC7gk"
      }
    },
    {
      "cell_type": "code",
      "source": [
        "print(select(Cliente.nome, Conta.saldo).join_from(Conta, Cliente))"
      ],
      "metadata": {
        "colab": {
          "base_uri": "https://localhost:8080/"
        },
        "id": "PtBRkvpj6X3k",
        "outputId": "07569c52-3567-4c0b-ff8c-57189bc3604b"
      },
      "execution_count": null,
      "outputs": [
        {
          "output_type": "stream",
          "name": "stdout",
          "text": [
            "SELECT cliente.nome, conta.saldo \n",
            "FROM conta JOIN cliente ON cliente.id = conta.cliente_id\n"
          ]
        }
      ]
    },
    {
      "cell_type": "code",
      "source": [
        "join_stmt = select(Cliente.cpf, Conta.numero).join_from(Conta, Cliente)\n",
        "\n",
        "for result in session.scalars(join_stmt):\n",
        "  print(result)"
      ],
      "metadata": {
        "colab": {
          "base_uri": "https://localhost:8080/"
        },
        "id": "h5-giHPZ7Jzs",
        "outputId": "88ea3e00-db6f-4e8e-c369-fb39127fcb51"
      },
      "execution_count": null,
      "outputs": [
        {
          "output_type": "stream",
          "name": "stdout",
          "text": [
            "12345678911\n",
            "14725836901\n",
            "74185296302\n",
            "31264597809\n",
            "21354687910\n"
          ]
        }
      ]
    },
    {
      "cell_type": "markdown",
      "source": [
        "- Utilizando o método fetch all"
      ],
      "metadata": {
        "id": "8AyavSZkC2s2"
      }
    },
    {
      "cell_type": "code",
      "source": [
        "connection = engine.connect()\n",
        "results = connection.execute(join_stmt).fetchall()\n",
        "print('Executando statement a partir da connection. CPFs e Contas\\n')\n",
        "for result in results:\n",
        "  print(result)"
      ],
      "metadata": {
        "colab": {
          "base_uri": "https://localhost:8080/"
        },
        "id": "Q4NfwWgO8L0K",
        "outputId": "3f3ebe14-ecf8-4473-b4be-ded2d6ee42e4"
      },
      "execution_count": null,
      "outputs": [
        {
          "output_type": "stream",
          "name": "stdout",
          "text": [
            "Executando statement a partir da connection. CPFs e Contas\n",
            "\n",
            "('12345678911', '20055001')\n",
            "('14725836901', '10055001')\n",
            "('74185296302', '10055003')\n",
            "('31264597809', '20055004')\n",
            "('21354687910', '10055007')\n"
          ]
        }
      ]
    },
    {
      "cell_type": "code",
      "source": [
        "print(select(func.count('*')).select_from(Cliente))"
      ],
      "metadata": {
        "colab": {
          "base_uri": "https://localhost:8080/"
        },
        "id": "GMbe4fBy8QuS",
        "outputId": "07fb976c-df6e-4b63-e37f-5fb627c615a8"
      },
      "execution_count": null,
      "outputs": [
        {
          "output_type": "stream",
          "name": "stdout",
          "text": [
            "SELECT count(:count_2) AS count_1 \n",
            "FROM cliente\n"
          ]
        }
      ]
    },
    {
      "cell_type": "markdown",
      "source": [
        "- Total de instâncias em Clientes"
      ],
      "metadata": {
        "id": "qMheo2_kCyN7"
      }
    },
    {
      "cell_type": "code",
      "source": [
        "count_stmt = select(func.count('*')).select_from(Cliente)\n",
        "for result in session.scalars(count_stmt):\n",
        "  print(f'Tota de instâncias em Clientes: {result}')"
      ],
      "metadata": {
        "colab": {
          "base_uri": "https://localhost:8080/"
        },
        "id": "SjRBFJr49AXQ",
        "outputId": "eb067a5d-7318-40d4-c302-06d49dcbafd1"
      },
      "execution_count": null,
      "outputs": [
        {
          "output_type": "stream",
          "name": "stdout",
          "text": [
            "Tota de instâncias em Clientes: 5\n"
          ]
        }
      ]
    },
    {
      "cell_type": "code",
      "source": [
        "join_stmt = select(Conta.saldo).join_from(Cliente, Conta).where(Cliente.nome=='Juliana')\n",
        "\n",
        "for result in session.scalars(join_stmt):\n",
        "  print(f\"R${result:,.2f}\")"
      ],
      "metadata": {
        "colab": {
          "base_uri": "https://localhost:8080/"
        },
        "id": "PeACeRGkEY5k",
        "outputId": "cf9bbe58-38e3-40b2-bce6-8d60c695c07a"
      },
      "execution_count": null,
      "outputs": [
        {
          "output_type": "stream",
          "name": "stdout",
          "text": [
            "R$10,000.00\n"
          ]
        }
      ]
    }
  ]
}